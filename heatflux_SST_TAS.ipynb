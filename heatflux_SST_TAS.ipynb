{
 "cells": [
  {
   "cell_type": "code",
   "execution_count": 1,
   "id": "f52043de-7018-42e9-ab59-9b4974eff16a",
   "metadata": {},
   "outputs": [],
   "source": [
    "import numpy as np\n",
    "import pandas as pd\n",
    "import xarray as xr\n",
    "import glob\n",
    "import warnings\n"
   ]
  },
  {
   "cell_type": "markdown",
   "id": "d3c14c40-3b8f-4643-ba45-5cbbe2a75e06",
   "metadata": {},
   "source": [
    "### Open historical and RCP8.5 hfds data, average over chosen periods, combine into dataset, and take the difference to get OHU change, save"
   ]
  },
  {
   "cell_type": "code",
   "execution_count": null,
   "id": "384baa7b-03be-4d4d-a87b-ed4e4be907d1",
   "metadata": {},
   "outputs": [],
   "source": [
    "\n",
    "if cmip6:\n",
    "    ens='cmip6'\n",
    "    MODELS_do = [ 'ACCESS-ESM1-5', 'CESM2-WACCM','FGOALS-f3-L', 'GFDL-CM4',\n",
    "                 'GFDL-ESM4', 'HadGEM3-GC31-LL',  'MPI-ESM1-2-HR',\n",
    "                 'MPI-ESM1-2-LR',  'UKESM1-0-LL','HadGEM3-GC31-MM','CESM2','FIO-ESM-2-0','CNRM-CM6-1','CMCC-CM2-SR5']\n",
    "else:\n",
    "    ens='cmip5'\n",
    "    MODELS_do = ['ACCESS1-0', 'ACCESS1-3', 'CMCC-CESM', 'CNRM-CM5',\n",
    "                 'CSIRO-Mk3-6-0',  'GISS-E2-R-CC', 'MIROC-ESM-CHEM',\n",
    "                 'MPI-ESM-LR', 'MRI-CGCM3', 'EC-EARTH', 'MIROC5','MIROC-ESM','GISS-E2-R','CMCC-CM'  ]\n",
    "\n",
    "\n",
    "data_dir = '/gws/nopw/j04/ukfafmip/users/enewsom/OHUE_RCP85/'\n",
    "files_hfds_hist =  glob.glob(data_dir+ 'hfds_*yr_*_historical*regridded*.nc') #this is a list of historical (or control) heat flux files\n",
    "files_hfds_85 =  glob.glob(data_dir+ 'hfds_*yr_*_ssp585*regridded*.nc') #this is a list of perturbed heat flux files\n",
    "\n",
    "\n",
    "period_c = slice(0,40) #however long of a period you want to average the controls; for the historical i used the first 40 years.\n",
    "period_p = slice(66,87) #the years you want to average over in the perturbed runs, I used the final two decades of RCP8.5\n",
    "\n",
    "HX0=[]\n",
    "HX=[]\n",
    "\n",
    "for count,model in enumerate(MODELS_do): \n",
    "\n",
    "    files_h0 = [match for match in files_hfds_hist if model in match] #picks out the file for that model (in your case, experiment)...\n",
    "    files_h2 = [match for match in files_hfds_85 if model in match]\n",
    "    \n",
    "    file = files_h0[0]\n",
    "    dc  = xr.open_dataset(file).assign_attrs(source_id=model).isel(time = period_c)\n",
    "    Hc= dc['hfds'].mean('time')\n",
    "    Hc=Hc.assign_coords(model=model)\n",
    "    HX0.append(Hc) \n",
    "        \n",
    "    file = files_h2[0]\n",
    "    dc  = xr.open_dataset(file).assign_attrs(source_id=model).isel(time = period_p)\n",
    "    Hc= dc['hfds'].mean('time')\n",
    "    Hc=Hc.assign_coords(model=model)\n",
    "    HX.append(Hc) \n",
    "    \n",
    "    clear_output(wait=True)\n",
    "\n",
    "H_control_model=xr.concat(HX0,dim='model',coords='minimal',compat='override') #this would instead concatenate a datarray of experiments...\n",
    "H_co2_model=xr.concat(HX,dim='model',coords='minimal',compat='override') #same\n",
    "H_anom = H_co2_model-H_control_model\n",
    "H_anom.to_netcdf('OHU_change_'+ens+'.nc')"
   ]
  },
  {
   "cell_type": "markdown",
   "id": "7ae41d46-2e0f-4a77-a4a5-b6a3f8472cbd",
   "metadata": {},
   "source": [
    "### Open historical and RCP8.5 SST and TAS data, average over chosen periods, combine into dataset, and take the difference to get SST or TAS change, save"
   ]
  },
  {
   "cell_type": "code",
   "execution_count": 11,
   "id": "1a07e76e-9646-4b67-8d24-bc64bee5116d",
   "metadata": {},
   "outputs": [
    {
     "name": "stderr",
     "output_type": "stream",
     "text": [
      "/home/users/enewsom/.conda/envs/nbenv2/lib/python3.10/site-packages/xarray/coding/times.py:526: SerializationWarning: Unable to decode time axis into full numpy.datetime64 objects, continuing using cftime.datetime objects instead, reason: dates out of range\n",
      "  dtype = _decode_cf_datetime_dtype(data, units, calendar, self.use_cftime)\n",
      "/home/users/enewsom/.conda/envs/nbenv2/lib/python3.10/site-packages/xarray/coding/times.py:526: SerializationWarning: Unable to decode time axis into full numpy.datetime64 objects, continuing using cftime.datetime objects instead, reason: dates out of range\n",
      "  dtype = _decode_cf_datetime_dtype(data, units, calendar, self.use_cftime)\n",
      "/home/users/enewsom/.conda/envs/nbenv2/lib/python3.10/site-packages/xarray/core/indexing.py:422: SerializationWarning: Unable to decode time axis into full numpy.datetime64 objects, continuing using cftime.datetime objects instead, reason: dates out of range\n",
      "  return np.asarray(array[self.key], dtype=None)\n"
     ]
    }
   ],
   "source": [
    "files_tos_hist =  glob.glob(data_dir+ 'tos_*yr_*_historical*regridded*.nc') #list of files for control SSTs\n",
    "files_tas_hist =  glob.glob(data_dir+ 'tas_yr_*_historical*regridded*.nc')  #list of files of perturbed SSTs\n",
    "files_tos_85 =  glob.glob(data_dir+ 'tos_*yr_*_ssp585*regridded*.nc') #list of files for control surface temp (tas)\n",
    "files_tas_85 =  glob.glob(data_dir+ 'tas_yr_*_ssp585*regridded*.nc') #list of files for perturbed surface temp (tas)\n",
    "\n",
    "\n",
    "tas=0  #I didn't loop over these since you only have SST (I think)? so probably just take out tas stuff\n",
    "tos=1\n",
    "if tas:\n",
    "    var='tas'\n",
    "    varT='TAS'\n",
    "else:\n",
    "    var='tos'\n",
    "    varT='SST'\n",
    "\n",
    "TX=[]\n",
    "TX0=[]\n",
    "\n",
    "for count,model in enumerate(MODELS_do):\n",
    "    print (model)\n",
    "    \n",
    "    if tas:\n",
    "        files_h0 = [match for match in files_tas_hist if model in match] \n",
    "        files_h2 = [match for match in files_tas_85 if model in match]\n",
    "    \n",
    "    if tos:\n",
    "        files_h0 = [match for match in files_tos_hist if model in match] \n",
    "        files_h2 = [match for match in files_tos_85 if model in match]\n",
    "        \n",
    "    clear_output(wait=True)\n",
    "\n",
    "    file = files_h0[0]      \n",
    "    dc  = xr.open_dataset(file).assign_attrs(source_id=model).isel(time = period_c)\n",
    "    Tc= dc[var].mean('time')\n",
    "    Tc=Tc.assign_coords(model=model)\n",
    "    TX0.append(Tc) \n",
    "\n",
    "    file = files_h2[0]\n",
    "    dc  = xr.open_dataset(file).assign_attrs(source_id=model).isel(time = period_p)\n",
    "    Tc= dc[var].mean('time')\n",
    "    Tc=Tc.assign_coords(model=model)\n",
    "    TX.append(Tc) \n",
    "\n",
    "T_control_model=xr.concat(TX0,dim='model',coords='minimal',compat='override')\n",
    "T_co2_model=xr.concat(TX,dim='model',coords='minimal',compat='override')\n",
    "T_anom = T_co2_model-T_control_model\n",
    "T_anom.to_netcdf(varT+'_change_'+ens+'.nc')"
   ]
  },
  {
   "cell_type": "code",
   "execution_count": null,
   "id": "c581d27f-ea07-4762-b6de-fd6dae70a5cd",
   "metadata": {},
   "outputs": [],
   "source": []
  }
 ],
 "metadata": {
  "kernelspec": {
   "display_name": "nbenv2",
   "language": "python",
   "name": "nbenv2"
  },
  "language_info": {
   "codemirror_mode": {
    "name": "ipython",
    "version": 3
   },
   "file_extension": ".py",
   "mimetype": "text/x-python",
   "name": "python",
   "nbconvert_exporter": "python",
   "pygments_lexer": "ipython3",
   "version": "3.10.11"
  }
 },
 "nbformat": 4,
 "nbformat_minor": 5
}
